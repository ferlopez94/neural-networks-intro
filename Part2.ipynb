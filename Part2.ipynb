{
 "cells": [
  {
   "cell_type": "markdown",
   "metadata": {},
   "source": [
    "# Part 2 - The hidden layer\n",
    "\n",
    "Welcome to Part 2!\n",
    "\n",
    "Here, we'll implement a neural network with 2 layers (a hidden and output layer), and talk about feedforward and backpropagation. We'll take advantage of Numpy, a library that provides fast alternatives to math operations in Python and is designed to work efficiently with groups of numbers - like matrices."
   ]
  },
  {
   "cell_type": "markdown",
   "metadata": {},
   "source": [
    "## Index\n",
    "\n",
    "- [Multi-layer perceptron](#multi-layer-perceptron)\n",
    "- [The weights](#the-weigts)\n",
    "- [Feedforward](#feedforward)\n",
    "  - The hidden layer\n",
    "  - The output layer\n",
    "- [Backpropagation](#backpropagation)\n",
    "  - Caculating the error\n",
    "  - Learning\n",
    "- Full implementation in a real case"
   ]
  },
  {
   "cell_type": "markdown",
   "metadata": {},
   "source": [
    "## Multi-layer perceptron <a id='multi-layer-perceptron'></a>\n",
    "\n",
    "In [Part 1](Part1.ipynb) we implemented the simplest neural network - a perceptron. This neural network doesn't have a hidden layer so it can't help us to find predictions to complex problems.\n",
    "\n",
    "When we combine perceptrons so that the output of one becomes the input of another one, we form a multi-layer perceptron or a neural network.\n",
    "\n",
    "Neural networks have a certain special architecture with layers:\n",
    "\n",
    "![Neural network](img/part2/1.png)\n",
    "\n",
    "- **Input layer:** contains the inputs $x_1$, $x_2$, $...$, $x_n$, $1$.\n",
    "- **Hidden layer:** set of linear models created with the first input layer.\n",
    "- **Output layer:** where the linear models get combined to obtain a nonlinear model.\n",
    "\n",
    "Now, not all neural networks look like the one above. They can be way more complicated. In particular, we can do the following things:\n",
    "- Add more nodes to the input, hidden and output layers.\n",
    "- Add more layers.\n",
    "\n",
    "The following image shows the network with which we will work, with its input units, labeled $x_1$, $x_2$, and $x_3$, its hidden nodes labeled $h_1$ and $h_2$, and all of the weights between the input layer and the hidden layer, labeled with their appropriate $w_{ij}$ indices:\n",
    "\n",
    "![Neural network for this exercise](img/part2/2.png)"
   ]
  },
  {
   "cell_type": "markdown",
   "metadata": {},
   "source": [
    "## The weigts <a id='the-weigts'></a>\n",
    "\n",
    "The weights need to be stored in a **matrix**, indexed as $w_{ij}$. Each **row** in the matrix will correspond to the weights **leading out** of a **single input unit**, and each **column** will correspond to the weights **leading in** to a **single hidden unit**.\n",
    "\n",
    "For our three input units and two hidden units, the weights matrix looks like this:\n",
    "\n",
    "![Weights matrix](img/part2/3.png)\n",
    "\n",
    "To initialize these weights in Numpy, we have to provide the shape of the matrix. If `features` is a 2D array containing the input data:"
   ]
  },
  {
   "cell_type": "code",
   "execution_count": 1,
   "metadata": {},
   "outputs": [],
   "source": [
    "import numpy as np\n",
    "\n",
    "# Use to same seed to make debugging easier\n",
    "np.random.seed(21)\n",
    "\n",
    "features = np.array([\n",
    "    [1, 2, 3], \n",
    "    [4, 5, 6]])\n",
    "\n",
    "# Number of records and input units\n",
    "n_records, n_inputs = features.shape\n",
    "\n",
    "# Input to hidden weights\n",
    "n_hidden = 2\n",
    "weights_input_to_hidden = np.random.normal(0, n_inputs**-0.5, size=(n_inputs, n_hidden))\n",
    "\n",
    "# Hidden to output weights\n",
    "weights_hidden_to_output = np.random.normal(0, n_inputs**-0.5, size=n_hidden)"
   ]
  },
  {
   "cell_type": "markdown",
   "metadata": {},
   "source": [
    "This creates a 2D array (i.e. matrix) named `weights_input_to_hidden` with dimensions `n_inputs` by `n_hidden`:"
   ]
  },
  {
   "cell_type": "code",
   "execution_count": 2,
   "metadata": {},
   "outputs": [
    {
     "name": "stdout",
     "output_type": "stream",
     "text": [
      "[[-0.03000157 -0.06419907]\n",
      " [ 0.60148166 -0.72557877]\n",
      " [ 0.43034978 -0.98787735]]\n"
     ]
    }
   ],
   "source": [
    "print(weights_input_to_hidden)"
   ]
  },
  {
   "cell_type": "markdown",
   "metadata": {},
   "source": [
    "and a 2D array named `weights_hidden_to_output` with dimensions `n_hidden`:"
   ]
  },
  {
   "cell_type": "code",
   "execution_count": 3,
   "metadata": {},
   "outputs": [
    {
     "name": "stdout",
     "output_type": "stream",
     "text": [
      "[-0.11885586 -0.1354298 ]\n"
     ]
    }
   ],
   "source": [
    "print(weights_hidden_to_output)"
   ]
  },
  {
   "cell_type": "markdown",
   "metadata": {},
   "source": [
    "## Feedforward <a id='feedforward'></a>\n",
    "\n",
    "Feedforward is the process neural networks use to turn the input into an output:\n",
    "\n",
    "![Feedforward](img/part2/4.png)\n",
    "\n",
    "On a multi-layer perceptron or neural network, to calculate a prediction $\\hat {y}\\,$ we start with the unit vector $x$ and then we apply the first matrix $W^{(1)}$ and a sigmoid activation function to get the values in the second layer. Then we apply the second matrix $W^{(2)}$ and another sigmoid function to get the values on the third layer, and so on and so forth, until we get our final prediction $\\hat y$. And this is the feedforward process that neural networks use to obtain the prediction from the input vector.\n",
    "\n",
    "Let's see step by step this process with our neural network with two layers (hidden and output layer)."
   ]
  },
  {
   "cell_type": "markdown",
   "metadata": {},
   "source": [
    "### The hidden layer\n",
    "\n",
    "The input to a hidden unit is the sum of all the inputs multiplied by the hidden unit's weights. So for each hidden layer unit, $h_j$, we need to calculate the following:\n",
    "$$\n",
    "h_j = \\sum_i w_{ij}x_i\n",
    "$$\n",
    "\n",
    "To do that, we need to use **matrix multiplication**.\n",
    "\n",
    "In this case, we're multiplying the inputs (a row vector here) by the weights. To do this, you take the dot (inner) product of the inputs with each column in the weights matrix. For example, to calculate the input to the first hidden unit, $j=1$, you'd take the dot product of the inputs with the first column of the weights matrix, like so:\n",
    "\n",
    "![Input to the first hidden unit](img/part2/5.png)\n",
    "\n",
    "$$\n",
    "h_1 = w_{11}x_1 + w_{21}x_2 + w_{31}x_3\n",
    "$$\n",
    "\n",
    "And for the second hidden layer input, you calculate the dot product of the inputs with the second column. And so on and so forth.\n",
    "\n",
    "In Numpy, you can do this for all the inputs and all the outputs at once using `np.dot`:"
   ]
  },
  {
   "cell_type": "code",
   "execution_count": 7,
   "metadata": {},
   "outputs": [
    {
     "name": "stdout",
     "output_type": "stream",
     "text": [
      "input\n",
      "[1 2 3]\n",
      "\n",
      "weights_input_to_hidden\n",
      "[[-0.03000157 -0.06419907]\n",
      " [ 0.60148166 -0.72557877]\n",
      " [ 0.43034978 -0.98787735]]\n",
      "\n",
      "hidden_inputs\n",
      "[ 2.46401109 -4.47898866]\n"
     ]
    }
   ],
   "source": [
    "input = features[0]\n",
    "\n",
    "# Calculate the inputs for the hidden layer\n",
    "hidden_inputs = np.dot(input, weights_input_to_hidden)\n",
    "\n",
    "print('input')\n",
    "print(input)\n",
    "print('\\nweights_input_to_hidden')\n",
    "print(weights_input_to_hidden)\n",
    "print('\\nhidden_inputs')\n",
    "print(hidden_inputs)"
   ]
  },
  {
   "cell_type": "markdown",
   "metadata": {},
   "source": [
    "Now that you have the inputs for the hidden layer, you calculate the outputs of that hidden layer passing the inputs through an activation function, which in this case we use the sigmoid function:"
   ]
  },
  {
   "cell_type": "code",
   "execution_count": 8,
   "metadata": {},
   "outputs": [
    {
     "data": {
      "text/plain": [
       "array([ 0.92158004,  0.01121762])"
      ]
     },
     "execution_count": 8,
     "metadata": {},
     "output_type": "execute_result"
    }
   ],
   "source": [
    "def sigmoid(x):\n",
    "    return 1 / (1 + np.exp(-x))\n",
    "\n",
    "hidden_outputs = sigmoid(hidden_inputs)\n",
    "hidden_outputs"
   ]
  },
  {
   "cell_type": "markdown",
   "metadata": {},
   "source": [
    "After this process we have our neural network with values in each of its hidden units:\n",
    "\n",
    "![Neural network with values in each of its hidden units](img/part2/6.png)"
   ]
  },
  {
   "cell_type": "markdown",
   "metadata": {},
   "source": [
    "### The output layer\n",
    "\n",
    "Now that you have the outputs for the hidden layer, it's time to calculate the input for the output unit, and this process is the same as with the hidden layer, but instead of multiplying the inputs by the hidden unit's weights, we multiply the outputs for the hidden layer by the output unit's weights:"
   ]
  },
  {
   "cell_type": "code",
   "execution_count": 9,
   "metadata": {},
   "outputs": [
    {
     "name": "stdout",
     "output_type": "stream",
     "text": [
      "hidden_outputs\n",
      "[ 0.92158004  0.01121762]\n",
      "\n",
      "weights_hidden_to_output\n",
      "[-0.11885586 -0.1354298 ]\n",
      "\n",
      "output_inputs\n",
      "-0.11105438401\n"
     ]
    }
   ],
   "source": [
    "output_inputs = np.dot(hidden_outputs, weights_hidden_to_output)\n",
    "\n",
    "print('hidden_outputs')\n",
    "print(hidden_outputs)\n",
    "print('\\nweights_hidden_to_output')\n",
    "print(weights_hidden_to_output)\n",
    "print('\\noutput_inputs')\n",
    "print(output_inputs)"
   ]
  },
  {
   "cell_type": "markdown",
   "metadata": {},
   "source": [
    "And finally, we calculate the sigmoid of the result to have our prediction $\\hat y$:"
   ]
  },
  {
   "cell_type": "code",
   "execution_count": 10,
   "metadata": {},
   "outputs": [
    {
     "data": {
      "text/plain": [
       "0.47226490306194757"
      ]
     },
     "execution_count": 10,
     "metadata": {},
     "output_type": "execute_result"
    }
   ],
   "source": [
    "output = sigmoid(output_inputs)\n",
    "output"
   ]
  },
  {
   "cell_type": "markdown",
   "metadata": {},
   "source": [
    "![Prediction](img/part2/7.png)"
   ]
  },
  {
   "cell_type": "markdown",
   "metadata": {},
   "source": [
    "## Backpropagation <a id='backpropagation'></a>\n",
    "\n",
    "Training is the process that looks for the parameters a neural network should have on its edges (weights) in order to model our data well. One method used for training a neural network is backpropagation.\n",
    "\n",
    "In a nutshell, backpropagation consists of:\n",
    "- Calculating the error of the prediction.\n",
    "- Running the feedforward operation backward (backpropagation) to spread the error to each of the weights.\n",
    "- Use this to update the weights, and get a better model (learn).\n",
    "- Continue this until we have a model that is good."
   ]
  },
  {
   "cell_type": "markdown",
   "metadata": {},
   "source": [
    "### Calculating the error\n",
    "\n",
    "To update the weights to hidden layers we use an algorithm called gradient descent. In order to do this, you need to know how much error each of the hidden units contributed to the final output. Since the output of a layer is determined by the weights between layers, the error resulting from units is scaled by the weights going forward through the network. Since we know the error at the output, we can use the weights to work backward to hidden layers.\n",
    "\n",
    "You can view this process as flipping the network over and using the error as the input:\n",
    "\n",
    "![Backpropagation](img/part2/8.png)\n",
    "\n",
    "In the output layer, you have error terms $\\delta_k^0$ attributed to each output unit $k$:\n",
    "\n",
    "$$\n",
    "\\delta_k^0 = (y_k - \\hat {y_k}) \\, f'(output_k)\n",
    "$$\n",
    "\n",
    "Remember that we are using the sigmoid for the activation function $f(h) = 1/(1+e^{-h})$ and:\n",
    "\n",
    "$$\n",
    "f'(h) = f(h)(1 - f(h))\n",
    "$$"
   ]
  },
  {
   "cell_type": "code",
   "execution_count": 11,
   "metadata": {},
   "outputs": [
    {
     "name": "stdout",
     "output_type": "stream",
     "text": [
      "output_error_term\n",
      "0.0318355158503\n"
     ]
    }
   ],
   "source": [
    "# The correct value we're trying to predict.\n",
    "target = 0.6\n",
    "\n",
    "# Calculate the network's output error\n",
    "error = target - output\n",
    "\n",
    "# Calculate the output layer's error term\n",
    "output_error_term = error * output * (1 - output)\n",
    "\n",
    "print('output_error_term')\n",
    "print(output_error_term)"
   ]
  },
  {
   "cell_type": "markdown",
   "metadata": {},
   "source": [
    "Then, the error attributed to hidden unit $j$ is the output error, scaled by the weights between the output and hidden layers (and the gradient):\n",
    "\n",
    "$$\n",
    "\\delta_j^h = \\sum W_{jk} \\, \\delta_k^0 \\, f'(h_j)\n",
    "$$"
   ]
  },
  {
   "cell_type": "code",
   "execution_count": 12,
   "metadata": {},
   "outputs": [
    {
     "name": "stdout",
     "output_type": "stream",
     "text": [
      "weights_hidden_to_output\n",
      "[-0.11885586 -0.1354298 ]\n",
      "\n",
      "output_error_term\n",
      "0.0318355158503\n",
      "\n",
      "hidden_error\n",
      "[-0.00378384 -0.00431148]\n",
      "\n",
      "hidden_outputs\n",
      "[ 0.92158004  0.01121762]\n",
      "\n",
      "hidden_error_term\n",
      "[ -2.73458970e-04  -4.78219744e-05]\n"
     ]
    }
   ],
   "source": [
    "# Calculate the hidden layer's error term\n",
    "hidden_error = output_error_term * weights_hidden_to_output\n",
    "hidden_error_term =  hidden_error * hidden_outputs * (1 - hidden_outputs)\n",
    "\n",
    "print('weights_hidden_to_output')\n",
    "print(weights_hidden_to_output)\n",
    "print('\\noutput_error_term')\n",
    "print(output_error_term)\n",
    "print('\\nhidden_error')\n",
    "print(hidden_error)\n",
    "print('\\nhidden_outputs')\n",
    "print(hidden_outputs)\n",
    "print('\\nhidden_error_term')\n",
    "print(hidden_error_term)"
   ]
  },
  {
   "cell_type": "markdown",
   "metadata": {},
   "source": [
    "![Neural network with error terms](img/part2/9.png)"
   ]
  },
  {
   "cell_type": "markdown",
   "metadata": {},
   "source": [
    "### Learning\n",
    "\n",
    "\"Learning\" takes our errors and tells each weight how it can change to reduce it.\n",
    "\n",
    "Then, the change to the weights will be:\n",
    "\n",
    "$$\n",
    "\\Delta w_{ij} = \\eta \\delta_j^h x_i\n",
    "$$\n",
    "\n",
    "where $w_{ij}$ are the weights between the inputs and hidden layer and $x_i$ are the input unit values. This form holds for however many layers there are. The weight steps are equal to the learning rate times the output error of the layer times the values of the inputs to that layer:\n",
    "\n",
    "$$\n",
    "\\Delta w_{pq} = \\eta \\delta_{output} V_{in}\n",
    "$$\n",
    "\n",
    "Here, you get the output error, $\\delta_{output}$, by propagating the errors backward from higher layers. And the input values, $V_{in}$ are the inputs to the layer, the hidden layer activations to the output unit for example."
   ]
  },
  {
   "cell_type": "code",
   "execution_count": 13,
   "metadata": {},
   "outputs": [
    {
     "name": "stdout",
     "output_type": "stream",
     "text": [
      "output_error_term = 0.0318355158503\n",
      "hidden_outputs =  [ 0.92158004  0.01121762]\n",
      "Change in weights for hidden layer to output layer:\n",
      "[  2.93389758e-03   3.57118668e-05]\n",
      "\n",
      "hidden_error_term =  [ -2.73458970e-04  -4.78219744e-05]\n",
      "input =  [1 2 3]\n",
      "Change in weights for input layer to hidden layer:\n",
      "[[ -2.73458970e-05  -4.78219744e-06]\n",
      " [ -5.46917940e-05  -9.56439489e-06]\n",
      " [ -8.20376911e-05  -1.43465923e-05]]\n"
     ]
    }
   ],
   "source": [
    "learnrate = 0.1\n",
    "\n",
    "# Calculate change in weights for hidden layer to output layer\n",
    "delta_weights_hidden_to_output = learnrate * output_error_term * hidden_outputs\n",
    "\n",
    "# Calculate change in weights for input layer to hidden layer\n",
    "delta_weights_input_to_hidden = learnrate * hidden_error_term * input[:, None]\n",
    "\n",
    "print('output_error_term =', output_error_term)\n",
    "print('hidden_outputs = ', hidden_outputs)\n",
    "print('Change in weights for hidden layer to output layer:')\n",
    "print(delta_weights_hidden_to_output)\n",
    "\n",
    "print('\\nhidden_error_term = ', hidden_error_term)\n",
    "print('input = ', input)\n",
    "print('Change in weights for input layer to hidden layer:')\n",
    "print(delta_weights_input_to_hidden)"
   ]
  },
  {
   "cell_type": "markdown",
   "metadata": {},
   "source": [
    "With the changes in weights computed, our new weights are:"
   ]
  },
  {
   "cell_type": "code",
   "execution_count": 14,
   "metadata": {},
   "outputs": [
    {
     "name": "stdout",
     "output_type": "stream",
     "text": [
      "Old weights for hidden layer to output layer:\n",
      "[-0.11885586 -0.1354298 ]\n",
      "\n",
      "Old weights for input layer to hidden layer:\n",
      "[[-0.03000157 -0.06419907]\n",
      " [ 0.60148166 -0.72557877]\n",
      " [ 0.43034978 -0.98787735]]\n",
      "\n",
      "\n",
      "New weights for hidden layer to output layer:\n",
      "[-0.11592196 -0.13539409]\n",
      "\n",
      "New weights for input layer to hidden layer:\n",
      "[[-0.03002892 -0.06420385]\n",
      " [ 0.60142697 -0.72558833]\n",
      " [ 0.43026774 -0.9878917 ]]\n"
     ]
    }
   ],
   "source": [
    "print('Old weights for hidden layer to output layer:')\n",
    "print(weights_hidden_to_output)\n",
    "\n",
    "print('\\nOld weights for input layer to hidden layer:')\n",
    "print(weights_input_to_hidden)\n",
    "\n",
    "# Calculate new weights\n",
    "new_weights_hidden_to_output = weights_hidden_to_output + delta_weights_hidden_to_output\n",
    "new_weights_input_to_hidden = weights_input_to_hidden + delta_weights_input_to_hidden\n",
    "\n",
    "print('\\n\\nNew weights for hidden layer to output layer:')\n",
    "print(new_weights_hidden_to_output)\n",
    "\n",
    "print('\\nNew weights for input layer to hidden layer:')\n",
    "print(new_weights_input_to_hidden)"
   ]
  },
  {
   "cell_type": "markdown",
   "metadata": {},
   "source": [
    "You may think that this was a tiny change in our weights, but this process was realized with the input data of just one record. In order to find a better model (with better weights and predictions), you have to iterate this process in your whole dataset a lot of times. We'll do this next.\n",
    "\n",
    "The takeaway is that you understand how all the pieces that allow a neural network \"learn\" fit together."
   ]
  },
  {
   "cell_type": "markdown",
   "metadata": {},
   "source": [
    "## Full implementation in a real case\n",
    "\n",
    "Now it's time to see all this pieces in action.\n",
    "\n",
    "As an example, we're going to train a network on graduate school admissions data (found at [http://www.ats.ucla.edu/stat/data/binary.csv.](http://www.ats.ucla.edu/stat/data/binary.csv.)). This dataset has 3 input features:\n",
    "- GRE Scores (Test)\n",
    "- GPA Scores (Grades)\n",
    "- Class rank (1-4)\n",
    "\n",
    "Institutions with rank 1 have the highest prestige, those with rank 4 have the lowest.\n",
    "\n",
    "The goal here is to predict if a student will be admitted to a graduate program based on those features. For this, we'll consider a simple network with one hidden layer and one output unit. We'll use a sigmoid function for the output unit activation.\n",
    "\n",
    "The process is the following:\n",
    "- Loading the data\n",
    "- Data preparation\n",
    "- Initialize hyperparameters and weights\n",
    "- Iterate $N$ epochs\n",
    " - For each record in the training data\n",
    "   - Calculate the output\n",
    "   - Calculate the network's prediction error\n",
    "   - Calculate error term for the output unit\n",
    "   - Calculate the hidden layer's contribution to the error\n",
    "   - Calculate error term for the hidden layer\n",
    "   - Update weights\n",
    "- Calculate accuracy on test data"
   ]
  },
  {
   "cell_type": "markdown",
   "metadata": {},
   "source": [
    "### Loading the data\n",
    "\n",
    "We'll use the packages called Pandas and Numpy to load the data and format it nicely."
   ]
  },
  {
   "cell_type": "code",
   "execution_count": 33,
   "metadata": {},
   "outputs": [
    {
     "data": {
      "text/html": [
       "<div>\n",
       "<style scoped>\n",
       "    .dataframe tbody tr th:only-of-type {\n",
       "        vertical-align: middle;\n",
       "    }\n",
       "\n",
       "    .dataframe tbody tr th {\n",
       "        vertical-align: top;\n",
       "    }\n",
       "\n",
       "    .dataframe thead th {\n",
       "        text-align: right;\n",
       "    }\n",
       "</style>\n",
       "<table border=\"1\" class=\"dataframe\">\n",
       "  <thead>\n",
       "    <tr style=\"text-align: right;\">\n",
       "      <th></th>\n",
       "      <th>admit</th>\n",
       "      <th>gre</th>\n",
       "      <th>gpa</th>\n",
       "      <th>rank</th>\n",
       "    </tr>\n",
       "  </thead>\n",
       "  <tbody>\n",
       "    <tr>\n",
       "      <th>0</th>\n",
       "      <td>0</td>\n",
       "      <td>380</td>\n",
       "      <td>3.61</td>\n",
       "      <td>3</td>\n",
       "    </tr>\n",
       "    <tr>\n",
       "      <th>1</th>\n",
       "      <td>1</td>\n",
       "      <td>660</td>\n",
       "      <td>3.67</td>\n",
       "      <td>3</td>\n",
       "    </tr>\n",
       "    <tr>\n",
       "      <th>2</th>\n",
       "      <td>1</td>\n",
       "      <td>800</td>\n",
       "      <td>4.00</td>\n",
       "      <td>1</td>\n",
       "    </tr>\n",
       "    <tr>\n",
       "      <th>3</th>\n",
       "      <td>1</td>\n",
       "      <td>640</td>\n",
       "      <td>3.19</td>\n",
       "      <td>4</td>\n",
       "    </tr>\n",
       "    <tr>\n",
       "      <th>4</th>\n",
       "      <td>0</td>\n",
       "      <td>520</td>\n",
       "      <td>2.93</td>\n",
       "      <td>4</td>\n",
       "    </tr>\n",
       "    <tr>\n",
       "      <th>5</th>\n",
       "      <td>1</td>\n",
       "      <td>760</td>\n",
       "      <td>3.00</td>\n",
       "      <td>2</td>\n",
       "    </tr>\n",
       "    <tr>\n",
       "      <th>6</th>\n",
       "      <td>1</td>\n",
       "      <td>560</td>\n",
       "      <td>2.98</td>\n",
       "      <td>1</td>\n",
       "    </tr>\n",
       "    <tr>\n",
       "      <th>7</th>\n",
       "      <td>0</td>\n",
       "      <td>400</td>\n",
       "      <td>3.08</td>\n",
       "      <td>2</td>\n",
       "    </tr>\n",
       "    <tr>\n",
       "      <th>8</th>\n",
       "      <td>1</td>\n",
       "      <td>540</td>\n",
       "      <td>3.39</td>\n",
       "      <td>3</td>\n",
       "    </tr>\n",
       "    <tr>\n",
       "      <th>9</th>\n",
       "      <td>0</td>\n",
       "      <td>700</td>\n",
       "      <td>3.92</td>\n",
       "      <td>2</td>\n",
       "    </tr>\n",
       "  </tbody>\n",
       "</table>\n",
       "</div>"
      ],
      "text/plain": [
       "   admit  gre   gpa  rank\n",
       "0      0  380  3.61     3\n",
       "1      1  660  3.67     3\n",
       "2      1  800  4.00     1\n",
       "3      1  640  3.19     4\n",
       "4      0  520  2.93     4\n",
       "5      1  760  3.00     2\n",
       "6      1  560  2.98     1\n",
       "7      0  400  3.08     2\n",
       "8      1  540  3.39     3\n",
       "9      0  700  3.92     2"
      ]
     },
     "execution_count": 33,
     "metadata": {},
     "output_type": "execute_result"
    }
   ],
   "source": [
    "import pandas as pd\n",
    "import numpy as np\n",
    "\n",
    "# Reading the csv file into a pandas DataFrame\n",
    "data = pd.read_csv('data/part2.csv')\n",
    "data[:10]"
   ]
  },
  {
   "cell_type": "markdown",
   "metadata": {},
   "source": [
    "Now, let's make a plot of our data to see how it looks. For the first plot, let's ignore the rank."
   ]
  },
  {
   "cell_type": "code",
   "execution_count": 19,
   "metadata": {},
   "outputs": [
    {
     "data": {
      "image/png": "[encoded data removed]",
      "text/plain": [
       "<matplotlib.figure.Figure at 0x11e4b8d68>"
      ]
     },
     "metadata": {},
     "output_type": "display_data"
    }
   ],
   "source": [
    "import matplotlib.pyplot as plt\n",
    "\n",
    "def plot_points(data):\n",
    "    X = np.array(data[['gre', 'gpa']])\n",
    "    y = np.array(data['admit'])\n",
    "    admitted = X[np.argwhere(y==1)]\n",
    "    rejected = X[np.argwhere(y==0)]\n",
    "    plt.scatter([s[0][0] for s in admitted], [s[0][1] for s in admitted], s=25, color='blue', edgecolor='k')\n",
    "    plt.scatter([s[0][0] for s in rejected], [s[0][1] for s in rejected], s=25, color='red', edgecolor='k')\n",
    "    plt.ylabel('Grades (GPA)')\n",
    "    plt.xlabel('Test (GRE)')\n",
    "\n",
    "plot_points(data)\n",
    "plt.show()"
   ]
  },
  {
   "cell_type": "markdown",
   "metadata": {},
   "source": [
    "Unfortunately, the data is not nicely separated. Maybe we could take into account the ranks. Let's make 4 plots, each one for each rank."
   ]
  },
  {
   "cell_type": "code",
   "execution_count": 20,
   "metadata": {},
   "outputs": [
    {
     "data": {
      "image/png": "[encoded data removed]",
      "text/plain": [
       "<matplotlib.figure.Figure at 0x11e639630>"
      ]
     },
     "metadata": {},
     "output_type": "display_data"
    },
    {
     "data": {
      "image/png": "[encoded data removed]",
      "text/plain": [
       "<matplotlib.figure.Figure at 0x11e710a58>"
      ]
     },
     "metadata": {},
     "output_type": "display_data"
    },
    {
     "data": {
      "image/png": "[encoded data removed]",
      "text/plain": [
       "<matplotlib.figure.Figure at 0x11e73f4e0>"
      ]
     },
     "metadata": {},
     "output_type": "display_data"
    },
    {
     "data": {
      "image/png": "[encoded data removed]",
      "text/plain": [
       "<matplotlib.figure.Figure at 0x11e8806d8>"
      ]
     },
     "metadata": {},
     "output_type": "display_data"
    }
   ],
   "source": [
    "# Separating the data for each rank\n",
    "data_rank1 = data[data['rank']==1]\n",
    "data_rank2 = data[data['rank']==2]\n",
    "data_rank3 = data[data['rank']==3]\n",
    "data_rank4 = data[data['rank']==4]\n",
    "\n",
    "# Plotting the graphs\n",
    "plot_points(data_rank1)\n",
    "plt.title('Rank 1')\n",
    "plt.show()\n",
    "\n",
    "plot_points(data_rank2)\n",
    "plt.title('Rank 2')\n",
    "plt.show()\n",
    "\n",
    "plot_points(data_rank3)\n",
    "plt.title('Rank 3')\n",
    "plt.show()\n",
    "\n",
    "plot_points(data_rank4)\n",
    "plt.title('Rank 4')\n",
    "plt.show()"
   ]
  },
  {
   "cell_type": "markdown",
   "metadata": {},
   "source": [
    "The 4 plots gives us more information, if you look closer, you can see that the lower the rank, the higher the acceptance rate. We'll use the rank as one of our inputs, but in order to do that, we need to one-hot encode it."
   ]
  },
  {
   "cell_type": "markdown",
   "metadata": {},
   "source": [
    "### Data preparation\n",
    "\n",
    "#### One-hot encoding the rank\n",
    "\n",
    "One-hot encoding is the process by which categorical variables are converted into a form that could be provided to ML algorithms to do a better job in prediction. In our case, instead of having one variable (rank) with values 1-4, we'll have 4 variables (rank1, rank2, rank3 and rank4) with values 1 or 0. We have to do this to avoid our neural network be biased by the values 1-4 and make correlations when there aren't.\n",
    "\n",
    "One-hot encoding is easy with `get_dummies` function in numpy."
   ]
  },
  {
   "cell_type": "code",
   "execution_count": 21,
   "metadata": {},
   "outputs": [
    {
     "data": {
      "text/html": [
       "<div>\n",
       "<style scoped>\n",
       "    .dataframe tbody tr th:only-of-type {\n",
       "        vertical-align: middle;\n",
       "    }\n",
       "\n",
       "    .dataframe tbody tr th {\n",
       "        vertical-align: top;\n",
       "    }\n",
       "\n",
       "    .dataframe thead th {\n",
       "        text-align: right;\n",
       "    }\n",
       "</style>\n",
       "<table border=\"1\" class=\"dataframe\">\n",
       "  <thead>\n",
       "    <tr style=\"text-align: right;\">\n",
       "      <th></th>\n",
       "      <th>admit</th>\n",
       "      <th>gre</th>\n",
       "      <th>gpa</th>\n",
       "      <th>rank_1</th>\n",
       "      <th>rank_2</th>\n",
       "      <th>rank_3</th>\n",
       "      <th>rank_4</th>\n",
       "    </tr>\n",
       "  </thead>\n",
       "  <tbody>\n",
       "    <tr>\n",
       "      <th>0</th>\n",
       "      <td>0</td>\n",
       "      <td>380</td>\n",
       "      <td>3.61</td>\n",
       "      <td>0</td>\n",
       "      <td>0</td>\n",
       "      <td>1</td>\n",
       "      <td>0</td>\n",
       "    </tr>\n",
       "    <tr>\n",
       "      <th>1</th>\n",
       "      <td>1</td>\n",
       "      <td>660</td>\n",
       "      <td>3.67</td>\n",
       "      <td>0</td>\n",
       "      <td>0</td>\n",
       "      <td>1</td>\n",
       "      <td>0</td>\n",
       "    </tr>\n",
       "    <tr>\n",
       "      <th>2</th>\n",
       "      <td>1</td>\n",
       "      <td>800</td>\n",
       "      <td>4.00</td>\n",
       "      <td>1</td>\n",
       "      <td>0</td>\n",
       "      <td>0</td>\n",
       "      <td>0</td>\n",
       "    </tr>\n",
       "    <tr>\n",
       "      <th>3</th>\n",
       "      <td>1</td>\n",
       "      <td>640</td>\n",
       "      <td>3.19</td>\n",
       "      <td>0</td>\n",
       "      <td>0</td>\n",
       "      <td>0</td>\n",
       "      <td>1</td>\n",
       "    </tr>\n",
       "    <tr>\n",
       "      <th>4</th>\n",
       "      <td>0</td>\n",
       "      <td>520</td>\n",
       "      <td>2.93</td>\n",
       "      <td>0</td>\n",
       "      <td>0</td>\n",
       "      <td>0</td>\n",
       "      <td>1</td>\n",
       "    </tr>\n",
       "    <tr>\n",
       "      <th>5</th>\n",
       "      <td>1</td>\n",
       "      <td>760</td>\n",
       "      <td>3.00</td>\n",
       "      <td>0</td>\n",
       "      <td>1</td>\n",
       "      <td>0</td>\n",
       "      <td>0</td>\n",
       "    </tr>\n",
       "    <tr>\n",
       "      <th>6</th>\n",
       "      <td>1</td>\n",
       "      <td>560</td>\n",
       "      <td>2.98</td>\n",
       "      <td>1</td>\n",
       "      <td>0</td>\n",
       "      <td>0</td>\n",
       "      <td>0</td>\n",
       "    </tr>\n",
       "    <tr>\n",
       "      <th>7</th>\n",
       "      <td>0</td>\n",
       "      <td>400</td>\n",
       "      <td>3.08</td>\n",
       "      <td>0</td>\n",
       "      <td>1</td>\n",
       "      <td>0</td>\n",
       "      <td>0</td>\n",
       "    </tr>\n",
       "    <tr>\n",
       "      <th>8</th>\n",
       "      <td>1</td>\n",
       "      <td>540</td>\n",
       "      <td>3.39</td>\n",
       "      <td>0</td>\n",
       "      <td>0</td>\n",
       "      <td>1</td>\n",
       "      <td>0</td>\n",
       "    </tr>\n",
       "    <tr>\n",
       "      <th>9</th>\n",
       "      <td>0</td>\n",
       "      <td>700</td>\n",
       "      <td>3.92</td>\n",
       "      <td>0</td>\n",
       "      <td>1</td>\n",
       "      <td>0</td>\n",
       "      <td>0</td>\n",
       "    </tr>\n",
       "  </tbody>\n",
       "</table>\n",
       "</div>"
      ],
      "text/plain": [
       "   admit  gre   gpa  rank_1  rank_2  rank_3  rank_4\n",
       "0      0  380  3.61       0       0       1       0\n",
       "1      1  660  3.67       0       0       1       0\n",
       "2      1  800  4.00       1       0       0       0\n",
       "3      1  640  3.19       0       0       0       1\n",
       "4      0  520  2.93       0       0       0       1\n",
       "5      1  760  3.00       0       1       0       0\n",
       "6      1  560  2.98       1       0       0       0\n",
       "7      0  400  3.08       0       1       0       0\n",
       "8      1  540  3.39       0       0       1       0\n",
       "9      0  700  3.92       0       1       0       0"
      ]
     },
     "execution_count": 21,
     "metadata": {},
     "output_type": "execute_result"
    }
   ],
   "source": [
    "# Make dummy variables for rank\n",
    "one_hot_data = pd.concat([data, pd.get_dummies(data['rank'], prefix='rank')], axis=1)\n",
    "\n",
    "# Drop the previous rank column\n",
    "one_hot_data = one_hot_data.drop('rank', axis=1)\n",
    "\n",
    "# Print the first 10 rows\n",
    "one_hot_data[:10]"
   ]
  },
  {
   "cell_type": "markdown",
   "metadata": {},
   "source": [
    "#### Scalling the data\n",
    "\n",
    "There is a problem with our data. The range for grades is 1.0-4.0, whereas the range for test scores is 200-800, which is much larger. This means our data is skewed, and that makes it hard for a neural network to handle. To fix that, we need to scale our data, and we'll do this fitting our 2 features into a range of 0-1, by dividing the grades by 4.0, and the test score by 800."
   ]
  },
  {
   "cell_type": "code",
   "execution_count": 37,
   "metadata": {},
   "outputs": [
    {
     "data": {
      "text/html": [
       "<div>\n",
       "<style scoped>\n",
       "    .dataframe tbody tr th:only-of-type {\n",
       "        vertical-align: middle;\n",
       "    }\n",
       "\n",
       "    .dataframe tbody tr th {\n",
       "        vertical-align: top;\n",
       "    }\n",
       "\n",
       "    .dataframe thead th {\n",
       "        text-align: right;\n",
       "    }\n",
       "</style>\n",
       "<table border=\"1\" class=\"dataframe\">\n",
       "  <thead>\n",
       "    <tr style=\"text-align: right;\">\n",
       "      <th></th>\n",
       "      <th>admit</th>\n",
       "      <th>gre</th>\n",
       "      <th>gpa</th>\n",
       "      <th>rank_1</th>\n",
       "      <th>rank_2</th>\n",
       "      <th>rank_3</th>\n",
       "      <th>rank_4</th>\n",
       "    </tr>\n",
       "  </thead>\n",
       "  <tbody>\n",
       "    <tr>\n",
       "      <th>0</th>\n",
       "      <td>0</td>\n",
       "      <td>0.475</td>\n",
       "      <td>0.225625</td>\n",
       "      <td>0</td>\n",
       "      <td>0</td>\n",
       "      <td>1</td>\n",
       "      <td>0</td>\n",
       "    </tr>\n",
       "    <tr>\n",
       "      <th>1</th>\n",
       "      <td>1</td>\n",
       "      <td>0.825</td>\n",
       "      <td>0.229375</td>\n",
       "      <td>0</td>\n",
       "      <td>0</td>\n",
       "      <td>1</td>\n",
       "      <td>0</td>\n",
       "    </tr>\n",
       "    <tr>\n",
       "      <th>2</th>\n",
       "      <td>1</td>\n",
       "      <td>1.000</td>\n",
       "      <td>0.250000</td>\n",
       "      <td>1</td>\n",
       "      <td>0</td>\n",
       "      <td>0</td>\n",
       "      <td>0</td>\n",
       "    </tr>\n",
       "    <tr>\n",
       "      <th>3</th>\n",
       "      <td>1</td>\n",
       "      <td>0.800</td>\n",
       "      <td>0.199375</td>\n",
       "      <td>0</td>\n",
       "      <td>0</td>\n",
       "      <td>0</td>\n",
       "      <td>1</td>\n",
       "    </tr>\n",
       "    <tr>\n",
       "      <th>4</th>\n",
       "      <td>0</td>\n",
       "      <td>0.650</td>\n",
       "      <td>0.183125</td>\n",
       "      <td>0</td>\n",
       "      <td>0</td>\n",
       "      <td>0</td>\n",
       "      <td>1</td>\n",
       "    </tr>\n",
       "    <tr>\n",
       "      <th>5</th>\n",
       "      <td>1</td>\n",
       "      <td>0.950</td>\n",
       "      <td>0.187500</td>\n",
       "      <td>0</td>\n",
       "      <td>1</td>\n",
       "      <td>0</td>\n",
       "      <td>0</td>\n",
       "    </tr>\n",
       "    <tr>\n",
       "      <th>6</th>\n",
       "      <td>1</td>\n",
       "      <td>0.700</td>\n",
       "      <td>0.186250</td>\n",
       "      <td>1</td>\n",
       "      <td>0</td>\n",
       "      <td>0</td>\n",
       "      <td>0</td>\n",
       "    </tr>\n",
       "    <tr>\n",
       "      <th>7</th>\n",
       "      <td>0</td>\n",
       "      <td>0.500</td>\n",
       "      <td>0.192500</td>\n",
       "      <td>0</td>\n",
       "      <td>1</td>\n",
       "      <td>0</td>\n",
       "      <td>0</td>\n",
       "    </tr>\n",
       "    <tr>\n",
       "      <th>8</th>\n",
       "      <td>1</td>\n",
       "      <td>0.675</td>\n",
       "      <td>0.211875</td>\n",
       "      <td>0</td>\n",
       "      <td>0</td>\n",
       "      <td>1</td>\n",
       "      <td>0</td>\n",
       "    </tr>\n",
       "    <tr>\n",
       "      <th>9</th>\n",
       "      <td>0</td>\n",
       "      <td>0.875</td>\n",
       "      <td>0.245000</td>\n",
       "      <td>0</td>\n",
       "      <td>1</td>\n",
       "      <td>0</td>\n",
       "      <td>0</td>\n",
       "    </tr>\n",
       "  </tbody>\n",
       "</table>\n",
       "</div>"
      ],
      "text/plain": [
       "   admit    gre       gpa  rank_1  rank_2  rank_3  rank_4\n",
       "0      0  0.475  0.225625       0       0       1       0\n",
       "1      1  0.825  0.229375       0       0       1       0\n",
       "2      1  1.000  0.250000       1       0       0       0\n",
       "3      1  0.800  0.199375       0       0       0       1\n",
       "4      0  0.650  0.183125       0       0       0       1\n",
       "5      1  0.950  0.187500       0       1       0       0\n",
       "6      1  0.700  0.186250       1       0       0       0\n",
       "7      0  0.500  0.192500       0       1       0       0\n",
       "8      1  0.675  0.211875       0       0       1       0\n",
       "9      0  0.875  0.245000       0       1       0       0"
      ]
     },
     "execution_count": 37,
     "metadata": {},
     "output_type": "execute_result"
    }
   ],
   "source": [
    "# Copying our data\n",
    "processed_data = one_hot_data[:]\n",
    "\n",
    "# Scaling the columns\n",
    "processed_data['gre'] = processed_data['gre']/800\n",
    "processed_data['gpa'] = processed_data['gpa']/4.0\n",
    "processed_data[:10]"
   ]
  },
  {
   "cell_type": "markdown",
   "metadata": {},
   "source": [
    "### Splitting the data into Training and Testing set\n",
    "\n",
    "On the training process, we have a training set and a testing set. We train our models in the training set without looking at the testing set, and then we evaluate the results on the testing set to see how we did. The size of the testing set will be 10% of the total data."
   ]
  },
  {
   "cell_type": "code",
   "execution_count": 43,
   "metadata": {},
   "outputs": [
    {
     "name": "stdout",
     "output_type": "stream",
     "text": [
      "Number of training samples is 360\n",
      "Number of testing samples is 40\n",
      "\n",
      "train_data (first 10 rows):\n",
      "     admit    gre       gpa  rank_1  rank_2  rank_3  rank_4\n",
      "106      1  0.875  0.222500       1       0       0       0\n",
      "9        0  0.875  0.245000       0       1       0       0\n",
      "61       0  0.700  0.207500       0       0       0       1\n",
      "224      0  1.000  0.181250       0       1       0       0\n",
      "37       0  0.650  0.181250       0       0       1       0\n",
      "242      1  0.850  0.185000       0       0       1       0\n",
      "313      1  0.650  0.228125       0       0       0       1\n",
      "52       0  0.925  0.210625       0       0       0       1\n",
      "347      0  0.725  0.237500       0       1       0       0\n",
      "239      0  0.875  0.215625       0       0       1       0\n",
      "\n",
      "test_data (first 10 rows):\n",
      "     admit    gre       gpa  rank_1  rank_2  rank_3  rank_4\n",
      "48       0  0.550  0.155000       0       0       0       1\n",
      "50       0  0.800  0.241250       0       0       1       0\n",
      "80       0  0.875  0.181250       0       0       0       1\n",
      "84       1  0.625  0.225000       0       0       1       0\n",
      "98       0  0.875  0.180000       0       1       0       0\n",
      "110      0  0.850  0.192500       0       0       0       1\n",
      "120      1  0.650  0.233750       0       1       0       0\n",
      "122      0  0.650  0.178125       0       0       1       0\n",
      "133      0  0.625  0.192500       0       0       1       0\n",
      "148      1  0.600  0.181875       1       0       0       0\n"
     ]
    }
   ],
   "source": [
    "# Use to same seed to make debugging easier\n",
    "np.random.seed(21)\n",
    "\n",
    "sample = np.random.choice(processed_data.index, size=int(len(processed_data) * 0.9), replace=False)\n",
    "train_data, test_data = processed_data.iloc[sample], processed_data.drop(sample)\n",
    "\n",
    "print(\"Number of training samples is\", len(train_data))\n",
    "print(\"Number of testing samples is\", len(test_data))\n",
    "print(\"\\ntrain_data (first 10 rows):\")\n",
    "print(train_data[:10])\n",
    "print(\"\\ntest_data (first 10 rows):\")\n",
    "print(test_data[:10])"
   ]
  },
  {
   "cell_type": "markdown",
   "metadata": {},
   "source": [
    "### Splitting the data into Features and Targets (labels)\n",
    "\n",
    "Finally, we'll split the data into features (X) and targets (y)."
   ]
  },
  {
   "cell_type": "code",
   "execution_count": 44,
   "metadata": {},
   "outputs": [],
   "source": [
    "features, targets = train_data.drop('admit', axis=1), train_data['admit']\n",
    "features_test, targets_test = test_data.drop('admit', axis=1), test_data['admit']"
   ]
  },
  {
   "cell_type": "markdown",
   "metadata": {},
   "source": [
    "`features` contains the records for each student (with our six inputs each one):"
   ]
  },
  {
   "cell_type": "code",
   "execution_count": 45,
   "metadata": {},
   "outputs": [
    {
     "data": {
      "text/plain": [
       "(360, 6)"
      ]
     },
     "execution_count": 45,
     "metadata": {},
     "output_type": "execute_result"
    }
   ],
   "source": [
    "features.shape"
   ]
  },
  {
   "cell_type": "code",
   "execution_count": 46,
   "metadata": {},
   "outputs": [
    {
     "data": {
      "text/html": [
       "<div>\n",
       "<style scoped>\n",
       "    .dataframe tbody tr th:only-of-type {\n",
       "        vertical-align: middle;\n",
       "    }\n",
       "\n",
       "    .dataframe tbody tr th {\n",
       "        vertical-align: top;\n",
       "    }\n",
       "\n",
       "    .dataframe thead th {\n",
       "        text-align: right;\n",
       "    }\n",
       "</style>\n",
       "<table border=\"1\" class=\"dataframe\">\n",
       "  <thead>\n",
       "    <tr style=\"text-align: right;\">\n",
       "      <th></th>\n",
       "      <th>gre</th>\n",
       "      <th>gpa</th>\n",
       "      <th>rank_1</th>\n",
       "      <th>rank_2</th>\n",
       "      <th>rank_3</th>\n",
       "      <th>rank_4</th>\n",
       "    </tr>\n",
       "  </thead>\n",
       "  <tbody>\n",
       "    <tr>\n",
       "      <th>106</th>\n",
       "      <td>0.875</td>\n",
       "      <td>0.222500</td>\n",
       "      <td>1</td>\n",
       "      <td>0</td>\n",
       "      <td>0</td>\n",
       "      <td>0</td>\n",
       "    </tr>\n",
       "    <tr>\n",
       "      <th>9</th>\n",
       "      <td>0.875</td>\n",
       "      <td>0.245000</td>\n",
       "      <td>0</td>\n",
       "      <td>1</td>\n",
       "      <td>0</td>\n",
       "      <td>0</td>\n",
       "    </tr>\n",
       "    <tr>\n",
       "      <th>61</th>\n",
       "      <td>0.700</td>\n",
       "      <td>0.207500</td>\n",
       "      <td>0</td>\n",
       "      <td>0</td>\n",
       "      <td>0</td>\n",
       "      <td>1</td>\n",
       "    </tr>\n",
       "    <tr>\n",
       "      <th>224</th>\n",
       "      <td>1.000</td>\n",
       "      <td>0.181250</td>\n",
       "      <td>0</td>\n",
       "      <td>1</td>\n",
       "      <td>0</td>\n",
       "      <td>0</td>\n",
       "    </tr>\n",
       "    <tr>\n",
       "      <th>37</th>\n",
       "      <td>0.650</td>\n",
       "      <td>0.181250</td>\n",
       "      <td>0</td>\n",
       "      <td>0</td>\n",
       "      <td>1</td>\n",
       "      <td>0</td>\n",
       "    </tr>\n",
       "    <tr>\n",
       "      <th>242</th>\n",
       "      <td>0.850</td>\n",
       "      <td>0.185000</td>\n",
       "      <td>0</td>\n",
       "      <td>0</td>\n",
       "      <td>1</td>\n",
       "      <td>0</td>\n",
       "    </tr>\n",
       "    <tr>\n",
       "      <th>313</th>\n",
       "      <td>0.650</td>\n",
       "      <td>0.228125</td>\n",
       "      <td>0</td>\n",
       "      <td>0</td>\n",
       "      <td>0</td>\n",
       "      <td>1</td>\n",
       "    </tr>\n",
       "    <tr>\n",
       "      <th>52</th>\n",
       "      <td>0.925</td>\n",
       "      <td>0.210625</td>\n",
       "      <td>0</td>\n",
       "      <td>0</td>\n",
       "      <td>0</td>\n",
       "      <td>1</td>\n",
       "    </tr>\n",
       "    <tr>\n",
       "      <th>347</th>\n",
       "      <td>0.725</td>\n",
       "      <td>0.237500</td>\n",
       "      <td>0</td>\n",
       "      <td>1</td>\n",
       "      <td>0</td>\n",
       "      <td>0</td>\n",
       "    </tr>\n",
       "    <tr>\n",
       "      <th>239</th>\n",
       "      <td>0.875</td>\n",
       "      <td>0.215625</td>\n",
       "      <td>0</td>\n",
       "      <td>0</td>\n",
       "      <td>1</td>\n",
       "      <td>0</td>\n",
       "    </tr>\n",
       "  </tbody>\n",
       "</table>\n",
       "</div>"
      ],
      "text/plain": [
       "       gre       gpa  rank_1  rank_2  rank_3  rank_4\n",
       "106  0.875  0.222500       1       0       0       0\n",
       "9    0.875  0.245000       0       1       0       0\n",
       "61   0.700  0.207500       0       0       0       1\n",
       "224  1.000  0.181250       0       1       0       0\n",
       "37   0.650  0.181250       0       0       1       0\n",
       "242  0.850  0.185000       0       0       1       0\n",
       "313  0.650  0.228125       0       0       0       1\n",
       "52   0.925  0.210625       0       0       0       1\n",
       "347  0.725  0.237500       0       1       0       0\n",
       "239  0.875  0.215625       0       0       1       0"
      ]
     },
     "execution_count": 46,
     "metadata": {},
     "output_type": "execute_result"
    }
   ],
   "source": [
    "features[:10]"
   ]
  },
  {
   "cell_type": "markdown",
   "metadata": {},
   "source": [
    "and `targets` the expected values we try to predict (if a student was admitted to a graduate program based on his data - 1 if admitted, 0 otherwise)"
   ]
  },
  {
   "cell_type": "code",
   "execution_count": 47,
   "metadata": {},
   "outputs": [
    {
     "data": {
      "text/plain": [
       "(360,)"
      ]
     },
     "execution_count": 47,
     "metadata": {},
     "output_type": "execute_result"
    }
   ],
   "source": [
    "targets.shape"
   ]
  },
  {
   "cell_type": "code",
   "execution_count": 48,
   "metadata": {},
   "outputs": [
    {
     "data": {
      "text/plain": [
       "106    1\n",
       "9      0\n",
       "61     0\n",
       "224    0\n",
       "37     0\n",
       "242    1\n",
       "313    1\n",
       "52     0\n",
       "347    0\n",
       "239    0\n",
       "Name: admit, dtype: int64"
      ]
     },
     "execution_count": 48,
     "metadata": {},
     "output_type": "execute_result"
    }
   ],
   "source": [
    "targets[:10]"
   ]
  },
  {
   "cell_type": "markdown",
   "metadata": {},
   "source": [
    "# Feedback"
   ]
  }
 ],
 "metadata": {
  "kernelspec": {
   "display_name": "Python 3",
   "language": "python",
   "name": "python3"
  },
  "language_info": {
   "codemirror_mode": {
    "name": "ipython",
    "version": 3
   },
   "file_extension": ".py",
   "mimetype": "text/x-python",
   "name": "python",
   "nbconvert_exporter": "python",
   "pygments_lexer": "ipython3",
   "version": "3.6.3"
  }
 },
 "nbformat": 4,
 "nbformat_minor": 2
}
