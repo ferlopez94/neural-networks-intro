{
 "cells": [
  {
   "cell_type": "markdown",
   "metadata": {},
   "source": [
    "# Neural Networks Intro\n",
    "\n",
    "Welcome! \n",
    "\n",
    "This is a basic guide for explaining what neural networks are and how they work. We'll go over the basic concepts and even implement a neural network with 2 layers works, step by step, in order to understand the important parts involved in the whole learning process.\n",
    "\n",
    "This guide is not meant to be a rigorous one, but rather a friendly one that allows you to understand how all of the pieces fit together, together with some visual aids to ease the understanding of neural networks.\n",
    "\n",
    "This basic guide is composed of 2 parts (2 notebooks). In Part 1 we'll go over the basics, implementing the simplest neural network - a perceptron. In Part 2 we'll implement a neural network with 2 layers.\n",
    "\n",
    "Be ready to learn a lot of concepts but fear not, I'll try my best to help you entry to this exciting field in the most friendly way."
   ]
  },
  {
   "cell_type": "markdown",
   "metadata": {},
   "source": [
    "## Part 1 - The basics\n",
    "\n",
    "Welcome to Part 1! Here, we'll learn the foundations of neural networks, and implement a perceptron - the simplest neural network.\n",
    "\n",
    "Without further ado, let's begin!"
   ]
  },
  {
   "cell_type": "markdown",
   "metadata": {},
   "source": [
    "### AI vs ML vs DL"
   ]
  },
  {
   "cell_type": "markdown",
   "metadata": {},
   "source": [
    "### What is a neural network?"
   ]
  },
  {
   "cell_type": "markdown",
   "metadata": {},
   "source": [
    "### Prediction"
   ]
  },
  {
   "cell_type": "markdown",
   "metadata": {},
   "source": [
    "### Compare"
   ]
  },
  {
   "cell_type": "markdown",
   "metadata": {},
   "source": [
    "### Learn"
   ]
  },
  {
   "cell_type": "markdown",
   "metadata": {},
   "source": [
    "### Full implementation in a real case"
   ]
  },
  {
   "cell_type": "markdown",
   "metadata": {},
   "source": [
    "## Feedback\n",
    "\n",
    "Please open a new issue for any corrections or feedback."
   ]
  }
 ],
 "metadata": {
  "kernelspec": {
   "display_name": "Python 3",
   "language": "python",
   "name": "python3"
  },
  "language_info": {
   "codemirror_mode": {
    "name": "ipython",
    "version": 3
   },
   "file_extension": ".py",
   "mimetype": "text/x-python",
   "name": "python",
   "nbconvert_exporter": "python",
   "pygments_lexer": "ipython3",
   "version": "3.6.3"
  }
 },
 "nbformat": 4,
 "nbformat_minor": 2
}
