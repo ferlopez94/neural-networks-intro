{
 "cells": [
  {
   "cell_type": "markdown",
   "metadata": {},
   "source": [
    "# Neural Networks Intro\n",
    "\n",
    "Welcome! \n",
    "\n",
    "This is a basic guide for explaining what neural networks are and how they work. We'll go over the basic concepts and even implement a neural network with 2 layers, step by step, in order to understand the important parts involved in the whole learning process.\n",
    "\n",
    "This guide is not meant to be a rigorous one, but rather a friendly one that allows you to understand how all of the pieces fit together, together with some visual aids to ease the understanding of neural networks.\n",
    "\n",
    "This basic guide is composed of the following 2 parts (2 notebooks):\n",
    "- [Part 1 - The basics:](Part1.ipynb) In this part we'll go over the basics, implementing the simplest neural network - a perceptron. \n",
    "- [Part 2 - The hidden layer:](Part1.ipynb) In this part we'll implement a neural network with 2 layers (a hidden and output layer), and talk about feedforward and backpropagation.\n",
    "\n",
    "Be ready to learn a lot of concepts but fear not, I'll try my best to help you entry to this exciting field in a friendly way."
   ]
  }
 ],
 "metadata": {
  "kernelspec": {
   "display_name": "Python 3",
   "language": "python",
   "name": "python3"
  },
  "language_info": {
   "codemirror_mode": {
    "name": "ipython",
    "version": 3
   },
   "file_extension": ".py",
   "mimetype": "text/x-python",
   "name": "python",
   "nbconvert_exporter": "python",
   "pygments_lexer": "ipython3",
   "version": "3.6.3"
  }
 },
 "nbformat": 4,
 "nbformat_minor": 2
}
